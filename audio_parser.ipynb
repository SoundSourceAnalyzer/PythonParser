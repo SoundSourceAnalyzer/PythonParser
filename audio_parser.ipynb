{
 "cells": [
  {
   "cell_type": "markdown",
   "metadata": {},
   "source": [
    "Imports"
   ]
  },
  {
   "cell_type": "code",
   "execution_count": 2,
   "metadata": {
    "collapsed": false
   },
   "outputs": [],
   "source": [
    "from __future__ import print_function\n",
    "import os\n",
    "import numpy as np\n",
    "import sys\n",
    "import subprocess\n",
    "import tarfile\n",
    "import xml.etree.ElementTree as ET\n",
    "from IPython.display import display, Image\n",
    "from scipy import ndimage\n",
    "from six.moves.urllib.request import urlretrieve\n",
    "from six.moves import cPickle as pickle\n",
    "from six.moves import range\n",
    "from yaafelib import *\n"
   ]
  },
  {
   "cell_type": "markdown",
   "metadata": {},
   "source": [
    "TODO: \n",
    " - install java on docker image"
   ]
  },
  {
   "cell_type": "code",
   "execution_count": 5,
   "metadata": {
    "collapsed": false
   },
   "outputs": [],
   "source": [
    "class IsmisFeatures:\n",
    "    \n",
    "    def __init__(self, audiofile):\n",
    "        self.audiofile = audiofile\n",
    "        \n",
    "        self.temporal_centroid = None      #1: Temporal Centroid\n",
    "        self.spectral_centroid = None      #2: Spectral Centroid average value\n",
    "        self.ase_per_band_avg = []         #4-37: Audio Spectrum Envelope (ASE) average values in 34 frequency bands\n",
    "        self.ase_avg = None                #38: ASE average value (averaged for all frequency bands)\n",
    "        self.ase_per_band_var = []         #39-72: ASE variance values in 34 frequency bands\n",
    "        self.ase_var_avg = None            #73: averaged ASE variance parameters\n",
    "        self.centroid_avg = None           #74: Audio Spectrum Centroid – average\n",
    "        self.centroid_var = None           #75: Audio Spectrum Centroid – variance\n",
    "        self.spread_avg = None             #76: Audio Spectrum Spread – average\n",
    "        self.spread_var = None             #77: Audio Spectrum Spread – variance\n",
    "        self.sfm_per_band_avg = []         #78-101: Spectral Flatness Measure (SFM) average values for 24 frequency bands\n",
    "        self.sfm_avg = None                #102: SFM average value (averaged for all frequency bands)\n",
    "        self.sfm_per_band_var = []         #103-126: Spectral Flatness Measure (SFM) variance values for 24 frequency bands\n",
    "        self.sfm_var_avg = None            #127: averaged SFM variance parameters\n",
    "        self.mfcc = []                     #128-147: 20 first mel cepstral coefficients average values\n",
    "        \n",
    "    def extract_features(self):\n",
    "        if os.path.exists(self.audiofile):\n",
    "            print('Getting features from ' + self.audiofile)\n",
    "        else:\n",
    "            raise Exception('File ' + self.audiofile + ' not found')\n",
    "            \n",
    "        self.extract_mpeg7_features()\n",
    "        self.extract_mfcc()\n",
    "        \n",
    "    def extract_mpeg7_features(self):\n",
    "        ns = {'xmlns' : 'urn:mpeg:mpeg7:schema:2001',\n",
    "              'mpeg7' : 'urn:mpeg:mpeg7:schema:2001',\n",
    "              'xsi' : 'http://www.w3.org/2001/XMLSchema-instance',\n",
    "              'xsi:schemaLocation' : 'urn:mpeg:mpeg7:schema:2001 http://mpeg7audioenc.sourceforge.net/mpeg7audioenc.xsd'} \n",
    "\n",
    "        # TODO: make this work\n",
    "        #subprocess.call(['java', '-jar', 'MPEG7AudioEnc.jar', self.audiofile, 'mpeg7config.xml'], stdout='desc.xml')\n",
    "        tree = ET.parse('desc.xml')\n",
    "        root = tree.getroot()\n",
    "\n",
    "        temporal_centroid_xml = root.find(\".//mpeg7:AudioDescriptor[@xsi:type='TemporalCentroidType']\", ns)\n",
    "        spectral_cetroid_xml = root.find(\".//mpeg7:AudioDescriptor[@xsi:type='SpectralCentroidType']\", ns)\n",
    "        audio_spectrum_centroid = root.find(\".//mpeg7:AudioDescriptor[@xsi:type='AudioSpectrumCentroidType']\", ns)\n",
    "        audio_spectrum_spread = root.find(\".//mpeg7:AudioDescriptor[@xsi:type='AudioSpectrumSpreadType']\", ns)\n",
    "        audio_spectrum_envelope = root.find(\".//mpeg7:AudioDescriptor[@xsi:type='AudioSpectrumEnvelopeType']\", ns)\n",
    "        audio_spectrum_flatness = root.find(\".//mpeg7:AudioDescriptor[@xsi:type='AudioSpectrumFlatnessType']\", ns)\n",
    "\n",
    "        self.temporal_centroid = self.parse_xml_scalar(temporal_centroid_xml, ns)\n",
    "        self.spectral_centroid = self.parse_xml_scalar(spectral_cetroid_xml, ns)\n",
    "        \n",
    "        envelope_values = self.parse_2d_xml_vector(audio_spectrum_envelope, ns)          \n",
    "        self.ase_per_band_avg = [np.mean(band) for band in envelope_values]\n",
    "        self.ase_avg = np.mean(self.ase_per_band_avg)\n",
    "        self.ase_per_band_var = [np.var(band) for band in envelope_values]\n",
    "        self.ase_var_avg = np.mean(self.ase_per_band_var)\n",
    "        \n",
    "        centroid_values = self.parse_xml_vector(audio_spectrum_centroid, ns)\n",
    "        self.centroid_avg = np.mean(centroid_values)\n",
    "        self.centroid_var = np.var(centroid_values)\n",
    "        \n",
    "        spread_values = self.parse_xml_vector(audio_spectrum_spread, ns)\n",
    "        self.spread_avg = np.mean(spread_values)\n",
    "        self.spread_var = np.var(spread_values)\n",
    "        \n",
    "        flatness_values = self.parse_2d_xml_vector(audio_spectrum_flatness, ns)\n",
    "        self.sfm_per_band_avg = [np.mean(band) for band in flatness_values]\n",
    "        self.sfm_avg = np.mean(self.sfm_per_band_avg)\n",
    "        self.sfm_per_band_var = [np.var(band) for band in flatness_values]\n",
    "        self.sfm_var_avg = np.mean(self.ase_per_band_var)\n",
    "    \n",
    "    def parse_xml_scalar(self, element, ns):\n",
    "        return float(element.find(\".//mpeg7:Scalar\", ns).text)\n",
    "    \n",
    "    def parse_xml_vector(self, element, ns):\n",
    "        values_splitted = element.find(\".//mpeg7:Raw\", ns).text.split()\n",
    "        return map((lambda x: float(x)), values_splitted)\n",
    "    \n",
    "    def parse_2d_xml_vector(self, element, ns):\n",
    "        values_string = element.find(\".//mpeg7:Raw\", ns).text\n",
    "        values_splitted = [s.strip().split() for s in values_string.splitlines()]\n",
    "        values = [map((lambda x: float(x)), value) for value in values_splitted] #cast to float\n",
    "        transposed_values = list(map(list, zip(*values))) #transpose matrix to have 1 long vector per 1 band\n",
    "        return transposed_values \n",
    "    \n",
    "    def extract_mfcc(self):\n",
    "        fp = FeaturePlan(sample_rate=22050, normalize=1)\n",
    "        fp.addFeature('mfcc: MFCC CepsNbCoeffs=20')\n",
    "        df = fp.getDataFlow()\n",
    "        engine = Engine()\n",
    "        engine.load(df)\n",
    "        afp = AudioFileProcessor()\n",
    "        afp.setOutputFormat('csv', 'features', {'Precision': '8', 'Metadata': 'False'})\n",
    "        afp.processFile(engine, self.audiofile)\n",
    "        engine.flush()\n",
    "        feats = engine.readAllOutputs()\n",
    "        self.mfcc = feats['mfcc'][0]"
   ]
  },
  {
   "cell_type": "code",
   "execution_count": 6,
   "metadata": {
    "collapsed": false
   },
   "outputs": [
    {
     "name": "stdout",
     "output_type": "stream",
     "text": [
      "Getting features from data/genres/hiphop/hiphop.00049.au\n"
     ]
    }
   ],
   "source": [
    "test_track = 'data/genres/hiphop/hiphop.00049.au'\n",
    "ismisFeature = IsmisFeatures(test_track)\n",
    "ismisFeature.extract_features()"
   ]
  }
 ],
 "metadata": {
  "kernelspec": {
   "display_name": "Python 2",
   "language": "python",
   "name": "python2"
  },
  "language_info": {
   "codemirror_mode": {
    "name": "ipython",
    "version": 2
   },
   "file_extension": ".py",
   "mimetype": "text/x-python",
   "name": "python",
   "nbconvert_exporter": "python",
   "pygments_lexer": "ipython2",
   "version": "2.7.11"
  }
 },
 "nbformat": 4,
 "nbformat_minor": 0
}
