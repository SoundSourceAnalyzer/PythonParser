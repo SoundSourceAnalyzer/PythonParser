{
 "cells": [
  {
   "cell_type": "markdown",
   "metadata": {},
   "source": [
    "Imports"
   ]
  },
  {
   "cell_type": "code",
   "execution_count": 1,
   "metadata": {
    "collapsed": false
   },
   "outputs": [],
   "source": [
    "from __future__ import print_function\n",
    "import os\n",
    "import numpy as np\n",
    "import sys\n",
    "import tarfile\n",
    "import xml.etree.ElementTree as ET\n",
    "from IPython.display import display, Image\n",
    "from scipy import ndimage\n",
    "from six.moves.urllib.request import urlretrieve\n",
    "from six.moves import cPickle as pickle\n",
    "from six.moves import range\n",
    "from yaafelib import *\n"
   ]
  },
  {
   "cell_type": "code",
   "execution_count": 2,
   "metadata": {
    "collapsed": false
   },
   "outputs": [],
   "source": [
    "#print(os.listdir(os.getcwd()))\n",
    "test_track = 'data/genres/hiphop/hiphop.00049.au'\n"
   ]
  },
  {
   "cell_type": "code",
   "execution_count": 127,
   "metadata": {
    "collapsed": true
   },
   "outputs": [],
   "source": [
    "class IsmisFeatures:\n",
    "    \n",
    "    def __init__(self):\n",
    "        self.temporal_centroid = None      #1: Temporal Centroid\n",
    "        self.spectral_centroid_avg = None  #2: Spectral Centroid average value\n",
    "        self.spectral_centroid_var = None  #3: Spectral Centroid variance\n",
    "        self.ase_per_band_avg = []         #4-37: Audio Spectrum Envelope (ASE) average values in 34 frequency bands\n",
    "        self.ase_avg = None                #38: ASE average value (averaged for all frequency bands)\n",
    "        self.ase_per_band_var = []         #39-72: ASE variance values in 34 frequency bands\n",
    "        self.ase_var_avg = []              #73: averaged ASE variance parameters\n",
    "        self.centroid_avg = None           #74: Audio Spectrum Centroid – average\n",
    "        self.centroid_var = None           #75: Audio Spectrum Centroid – variance\n",
    "        self.spread_avg = None             #76: Audio Spectrum Spread – average\n",
    "        self.spread_var = None             #77: Audio Spectrum Spread – variance\n",
    "        self.sfm_per_band_avg = []         #78-101: Spectral Flatness Measure (SFM) average values for 24 frequency bands\n",
    "        self.sfm_avg = None                #102: SFM average value (averaged for all frequency bands)\n",
    "        self.sfm_per_band_var = []         #103-126: Spectral Flatness Measure (SFM) variance values for 24 frequency bands\n",
    "        self.sfm_var_avg = None            #127: averaged SFM variance parameters\n",
    "        self.mfcc = []                     #128-147: 20 first mel cepstral coefficients average values\n",
    "        \n",
    "    def extract_yaafe_features():\n",
    "        \n",
    "\n",
    "    "
   ]
  },
  {
   "cell_type": "code",
   "execution_count": 130,
   "metadata": {
    "collapsed": false
   },
   "outputs": [
    {
     "name": "stdout",
     "output_type": "stream",
     "text": [
      "Getting features from data/genres/hiphop/hiphop.00049.au\n",
      "{'temporal_centroid': array([[ 125.60137169,   82.81068322,    0.28659876,  -46.47988592]]), 'spectral_shape': array([[ 211.31671796,  154.26268474,    0.24614688,  -33.25321142]])}\n",
      "temporal_centroid (1, 4)\n",
      "spectral_shape (1, 4)\n"
     ]
    }
   ],
   "source": [
    "def get_ismiss_feature_plan():\n",
    "    fp = FeaturePlan(sample_rate=22050, normalize=1)\n",
    "    # Features that seems to be most often used, so they are good to start with.\n",
    "    #1 - Temporal Centroid [0]\n",
    "    fp.addFeature('temporal_centroid: TemporalShapeStatistics')\n",
    "    \n",
    "    #2 - Spectral Centroid (3?)\n",
    "    fp.addFeature('spectral_shape: SpectralShapeStatistics FFTLength=0  FFTWindow=Hanning  blockSize=1024  stepSize=512')\n",
    "    \n",
    "    # 78-101 - Spectral Flatness per band \n",
    "#     fp.addFeature('spectral_flattness_per_band: SpectralFlatnessPerBand FFTLength=0  FFTWindow=Hanning  blockSize=1024  stepSize=512')\n",
    "    \n",
    "    # 102 - Spectral Flatness (for all bands)\n",
    "#     fp.addFeature('spectral_flatness: SpectralFlatness FFTLength=0  FFTWindow=Hanning  blockSize=1024  stepSize=512')\n",
    "    \n",
    "    #128-167\n",
    "    #fp.addFeature('mfcc: MFCC CepsNbCoeffs=20')\n",
    "    #fp.addFeature('zcr: ZCR')\n",
    "    #fp.addFeature('spectral_shape: SpectralShapeStatistics')\n",
    "    \n",
    "#     fp.addFeature('envelope: Envelope EnDecim=200  blockSize=32768  stepSize=16384')\n",
    "    #fp.addFeature('magnitude_spectrum: MagnitudeSpectrum')\n",
    "    return fp\n",
    "\n",
    "def get_features(audio_file, feature_plan):\n",
    "    if os.path.exists(audio_file):\n",
    "        print('Getting features from ' + audio_file)\n",
    "    else:\n",
    "        raise Exception('File ' + audio_file + ' not found')\n",
    "    df = feature_plan.getDataFlow()\n",
    "    engine = Engine()\n",
    "    engine.load(df)\n",
    "    afp = AudioFileProcessor()\n",
    "    afp.setOutputFormat('csv', 'features', {'Precision': '8', 'Metadata': 'False'})\n",
    "    afp.processFile(engine, audio_file)\n",
    "    engine.flush()\n",
    "    feats = engine.readAllOutputs()\n",
    "    return feats\n",
    "\n",
    "fp = get_ismiss_feature_plan()\n",
    "features = get_features(test_track, fp)\n",
    "\n",
    "print(features)\n",
    "for i in features:\n",
    "    print(i, features[i].shape)"
   ]
  },
  {
   "cell_type": "code",
   "execution_count": 126,
   "metadata": {
    "collapsed": false
   },
   "outputs": [
    {
     "name": "stdout",
     "output_type": "stream",
     "text": [
      "<Element '{urn:mpeg:mpeg7:schema:2001}AudioDescriptor' at 0x7f54d3f91ed0>\n",
      "<Element '{urn:mpeg:mpeg7:schema:2001}AudioDescriptor' at 0x7f54d3f5aa10>\n",
      "<Element '{urn:mpeg:mpeg7:schema:2001}AudioDescriptor' at 0x7f54d3f84a90>\n",
      "<Element '{urn:mpeg:mpeg7:schema:2001}AudioDescriptor' at 0x7f54d3f84210>\n"
     ]
    }
   ],
   "source": [
    "ns = {'xmlns' : 'urn:mpeg:mpeg7:schema:2001',\n",
    "      'mpeg7' : 'urn:mpeg:mpeg7:schema:2001',\n",
    "      'xsi' : 'http://www.w3.org/2001/XMLSchema-instance',\n",
    "      'xsi:schemaLocation' : 'urn:mpeg:mpeg7:schema:2001 http://mpeg7audioenc.sourceforge.net/mpeg7audioenc.xsd'} \n",
    "\n",
    "\n",
    "tree = ET.parse('desc.xml')\n",
    "root = tree.getroot()\n",
    "\n",
    "audio_spectrum_centroid = root.find(\".//mpeg7:AudioDescriptor[@xsi:type='AudioSpectrumCentroidType']\", ns)\n",
    "audio_spectrum_spread = root.find(\".//mpeg7:AudioDescriptor[@xsi:type='AudioSpectrumSpreadType']\", ns)\n",
    "audio_spectrum_envelope = root.find(\".//mpeg7:AudioDescriptor[@xsi:type='AudioSpectrumEnvelopeType']\", ns)\n",
    "audio_spectrum_flatness = root.find(\".//mpeg7:AudioDescriptor[@xsi:type='AudioSpectrumFlatnessType']\", ns)\n",
    "\n",
    "\n"
   ]
  },
  {
   "cell_type": "code",
   "execution_count": null,
   "metadata": {
    "collapsed": true
   },
   "outputs": [],
   "source": []
  },
  {
   "cell_type": "code",
   "execution_count": null,
   "metadata": {
    "collapsed": true
   },
   "outputs": [],
   "source": []
  }
 ],
 "metadata": {
  "kernelspec": {
   "display_name": "Python 2",
   "language": "python",
   "name": "python2"
  },
  "language_info": {
   "codemirror_mode": {
    "name": "ipython",
    "version": 2
   },
   "file_extension": ".py",
   "mimetype": "text/x-python",
   "name": "python",
   "nbconvert_exporter": "python",
   "pygments_lexer": "ipython2",
   "version": "2.7.11"
  }
 },
 "nbformat": 4,
 "nbformat_minor": 0
}
